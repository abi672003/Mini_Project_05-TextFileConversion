{
  "nbformat": 4,
  "nbformat_minor": 0,
  "metadata": {
    "colab": {
      "provenance": [],
      "authorship_tag": "ABX9TyNyK/awC3SbgDQTZLcaTbBl",
      "include_colab_link": true
    },
    "kernelspec": {
      "name": "python3",
      "display_name": "Python 3"
    },
    "language_info": {
      "name": "python"
    }
  },
  "cells": [
    {
      "cell_type": "markdown",
      "metadata": {
        "id": "view-in-github",
        "colab_type": "text"
      },
      "source": [
        "<a href=\"https://colab.research.google.com/github/abi672003/Mini_Project_05-TextFileConversion/blob/main/TextFileConversion.ipynb\" target=\"_parent\"><img src=\"https://colab.research.google.com/assets/colab-badge.svg\" alt=\"Open In Colab\"/></a>"
      ]
    },
    {
      "cell_type": "code",
      "execution_count": null,
      "metadata": {
        "id": "tOBgR-abpClo"
      },
      "outputs": [],
      "source": [
        "def convert_text_file(input_file, output_file):\n",
        "    try:\n",
        "        # Open the input file for reading\n",
        "        with open(input_file, 'r') as file:\n",
        "            # Read the contents of the input file\n",
        "            contents = file.read()\n",
        "\n",
        "            # Perform the conversion on the contents (e.g., convert to uppercase)\n",
        "            converted_contents = contents.upper()\n",
        "\n",
        "        # Open the output file for writing\n",
        "        with open(output_file, 'w') as file:\n",
        "            # Write the converted contents to the output file\n",
        "            file.write(converted_contents)\n",
        "\n",
        "        print(\"Conversion successful.\")\n",
        "\n",
        "    except FileNotFoundError:\n",
        "        print(f\"File not found: {input_file}\")\n",
        "    except Exception as e:\n",
        "        print(\"An error occurred during conversion:\", e)\n",
        "\n",
        "\n",
        "# Example usage\n",
        "input_file_path = \"input.txt\"\n",
        "output_file_path = \"output.txt\"\n",
        "convert_text_file(input_file_path, output_file_path)\n"
      ]
    }
  ]
}